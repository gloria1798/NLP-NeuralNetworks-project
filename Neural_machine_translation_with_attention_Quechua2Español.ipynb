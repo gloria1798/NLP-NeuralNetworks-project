{
  "nbformat": 4,
  "nbformat_minor": 0,
  "metadata": {
    "colab": {
      "name": "Neural_machine_translation_with_attention_Quechua2Español.ipynb",
      "provenance": [],
      "collapsed_sections": []
    },
    "kernelspec": {
      "name": "python3",
      "display_name": "Python 3"
    },
    "accelerator": "GPU"
  },
  "cells": [
    {
      "cell_type": "code",
      "metadata": {
        "colab": {
          "base_uri": "https://localhost:8080/"
        },
        "id": "L6kdLLBHB1BW",
        "outputId": "2c24b979-fa77-465f-f319-1cea526eea88"
      },
      "source": [
        "from google.colab import drive\n",
        "drive.mount('/content/drive')"
      ],
      "execution_count": null,
      "outputs": [
        {
          "output_type": "stream",
          "name": "stdout",
          "text": [
            "Mounted at /content/drive\n"
          ]
        }
      ]
    },
    {
      "cell_type": "code",
      "metadata": {
        "id": "BkPnF7Xwmtob"
      },
      "source": [
        "import tensorflow as tf\n",
        "\n",
        "import matplotlib.pyplot as plt\n",
        "import matplotlib.ticker as ticker\n",
        "from sklearn.model_selection import train_test_split\n",
        "\n",
        "import unicodedata\n",
        "import re\n",
        "import numpy as np\n",
        "import os\n",
        "import io\n",
        "import time"
      ],
      "execution_count": null,
      "outputs": []
    },
    {
      "cell_type": "code",
      "metadata": {
        "id": "BIM8FwFWpmmk"
      },
      "source": [
        "path_to_file = '/content/drive/MyDrive/project_dsrp/quech.txt'"
      ],
      "execution_count": null,
      "outputs": []
    },
    {
      "cell_type": "code",
      "metadata": {
        "id": "znZN6J_em2OG"
      },
      "source": [
        "# Converts the unicode file to ascii\n",
        "def unicode_to_ascii(s):\n",
        "  return ''.join(c for c in unicodedata.normalize('NFD', s)\n",
        "      if unicodedata.category(c) != 'Mn')\n",
        "  \n",
        "def preprocess_sentence(w):\n",
        "  w = unicode_to_ascii(w.lower().strip())\n",
        "\n",
        "  # creating a space between a word and the punctuation following it\n",
        "  # eg: \"he is a boy.\" => \"he is a boy .\"\n",
        "  # Reference:- https://stackoverflow.com/questions/3645931/python-padding-punctuation-with-white-spaces-keeping-punctuation\n",
        "  w = re.sub(r\"([?.!,¿])\", r\" \\1 \", w)\n",
        "  w = re.sub(r'[\" \"]+', \" \", w)\n",
        "\n",
        "  # replacing everything with space except (a-z, A-Z, \".\", \"?\", \"!\", \",\")\n",
        "  w = re.sub(r\"[^a-zA-Z?.!,¿]+\", \" \", w)\n",
        "\n",
        "  w = w.strip()\n",
        "\n",
        "  # adding a start and an end token to the sentence\n",
        "  # so that the model know when to start and stop predicting.\n",
        "  w = '<start> ' + w + ' <end>'\n",
        "  return w"
      ],
      "execution_count": null,
      "outputs": []
    },
    {
      "cell_type": "code",
      "metadata": {
        "id": "NEWLLD9WozQU",
        "colab": {
          "base_uri": "https://localhost:8080/"
        },
        "outputId": "ea0cfd06-3284-404c-9c65-2cbcfcd024f0"
      },
      "source": [
        "en_sentence = u\"May I borrow this book?\"\n",
        "sp_sentence = u\"¿Puedo tomar prestado este libro?\"\n",
        "print(preprocess_sentence(en_sentence))\n",
        "print(preprocess_sentence(sp_sentence).encode('utf-8'))"
      ],
      "execution_count": null,
      "outputs": [
        {
          "output_type": "stream",
          "name": "stdout",
          "text": [
            "<start> may i borrow this book ? <end>\n",
            "b'<start> \\xc2\\xbf puedo tomar prestado este libro ? <end>'\n"
          ]
        }
      ]
    },
    {
      "cell_type": "code",
      "metadata": {
        "id": "z3cHU_fDpDRJ"
      },
      "source": [
        "# 1. Remove the accents\n",
        "# 2. Clean the sentences\n",
        "# 3. Return word pairs in the format: [ENGLISH, SPANISH]\n",
        "def create_dataset(path, num_examples):\n",
        "  lines = io.open(path, encoding='UTF-8').read().strip().split('\\n')\n",
        "\n",
        "  word_pairs = [[preprocess_sentence(w) for w in l.split('\\t')]  for l in lines[:num_examples]]\n",
        "\n",
        "  return zip(*word_pairs)"
      ],
      "execution_count": null,
      "outputs": []
    },
    {
      "cell_type": "code",
      "metadata": {
        "id": "sM9BeMGjpHfi",
        "colab": {
          "base_uri": "https://localhost:8080/"
        },
        "outputId": "f07b3c91-9b6c-405a-e2a9-4b7a8e266814"
      },
      "source": [
        "spa, que = create_dataset(path_to_file, None)\n",
        "print(spa[-1])\n",
        "print(que[-1])"
      ],
      "execution_count": null,
      "outputs": [
        {
          "output_type": "stream",
          "name": "stdout",
          "text": [
            "<start> recuerda todo lo que hizo siendo nino . <end>\n",
            "<start> warma kaspam rurasqanta yuyan . <end>\n"
          ]
        }
      ]
    },
    {
      "cell_type": "code",
      "metadata": {
        "id": "gegc9gTcqGh_"
      },
      "source": [
        "def tokenize(lang):\n",
        "  lang_tokenizer = tf.keras.preprocessing.text.Tokenizer(\n",
        "      filters='')\n",
        "  lang_tokenizer.fit_on_texts(lang)\n",
        "\n",
        "  tensor = lang_tokenizer.texts_to_sequences(lang)\n",
        "\n",
        "  tensor = tf.keras.preprocessing.sequence.pad_sequences(tensor,\n",
        "                                                         padding='post')\n",
        "\n",
        "  return tensor, lang_tokenizer\n",
        "\n",
        "def load_dataset(path, num_examples=None):\n",
        "  # creating cleaned input, output pairs\n",
        "  targ_lang, inp_lang = create_dataset(path, num_examples)\n",
        "\n",
        "  input_tensor, inp_lang_tokenizer = tokenize(inp_lang)\n",
        "  target_tensor, targ_lang_tokenizer = tokenize(targ_lang)\n",
        "\n",
        "  return input_tensor, target_tensor, inp_lang_tokenizer, targ_lang_tokenizer"
      ],
      "execution_count": null,
      "outputs": []
    },
    {
      "cell_type": "code",
      "metadata": {
        "id": "bk9Rw84EqQFB",
        "colab": {
          "base_uri": "https://localhost:8080/"
        },
        "outputId": "215049a2-2bec-47c9-cc61-16502638d642"
      },
      "source": [
        "# Try experimenting with the size of that dataset\n",
        "num_examples = 4336\n",
        "input_tensor, target_tensor, inp_lang, targ_lang = load_dataset(path_to_file, num_examples)\n",
        "\n",
        "# Calculate max_length of the target tensors\n",
        "max_length_targ, max_length_inp = target_tensor.shape[1], input_tensor.shape[1]\n",
        "\n",
        "# Creating training and validation sets using an 80-20 split\n",
        "input_tensor_train, input_tensor_val, target_tensor_train, target_tensor_val = train_test_split(input_tensor, target_tensor, test_size=0.2)\n",
        "\n",
        "# Show length\n",
        "print(len(input_tensor_train), len(target_tensor_train), len(input_tensor_val), len(target_tensor_val))\n"
      ],
      "execution_count": null,
      "outputs": [
        {
          "output_type": "stream",
          "name": "stdout",
          "text": [
            "2072 2072 519 519\n"
          ]
        }
      ]
    },
    {
      "cell_type": "code",
      "metadata": {
        "id": "l2upcpb7qw7i",
        "colab": {
          "base_uri": "https://localhost:8080/"
        },
        "outputId": "0c97db1c-9a7a-491d-9077-5a4d848677b0"
      },
      "source": [
        "def convert(lang, tensor):\n",
        "  for t in tensor:\n",
        "    if t!=0:\n",
        "      print (\"%d ----> %s\" % (t, lang.index_word[t]))\n",
        "\n",
        "print (\"Input Language; index to word mapping\")\n",
        "convert(inp_lang, input_tensor_train[0])\n",
        "print ()\n",
        "print (\"Target Language; index to word mapping\")\n",
        "convert(targ_lang, target_tensor_train[0])"
      ],
      "execution_count": null,
      "outputs": [
        {
          "output_type": "stream",
          "name": "stdout",
          "text": [
            "Input Language; index to word mapping\n",
            "1 ----> <start>\n",
            "797 ----> qaykuy\n",
            "2 ----> <end>\n",
            "\n",
            "Target Language; index to word mapping\n",
            "1 ----> <start>\n",
            "2253 ----> acorralar\n",
            "2 ----> <end>\n"
          ]
        }
      ]
    },
    {
      "cell_type": "markdown",
      "metadata": {
        "id": "jcaimDL9rWF8"
      },
      "source": [
        "### **Create a tf.data dataset**"
      ]
    },
    {
      "cell_type": "code",
      "metadata": {
        "id": "OGpXyh_rrQeq"
      },
      "source": [
        "BUFFER_SIZE = len(input_tensor_train)\n",
        "BATCH_SIZE = 64\n",
        "steps_per_epoch = len(input_tensor_train)//BATCH_SIZE\n",
        "embedding_dim = 256\n",
        "units = 1024\n",
        "vocab_inp_size = len(inp_lang.word_index)+1\n",
        "vocab_tar_size = len(targ_lang.word_index)+1\n",
        "\n",
        "dataset = tf.data.Dataset.from_tensor_slices((input_tensor_train, target_tensor_train)).shuffle(BUFFER_SIZE)\n",
        "dataset = dataset.batch(BATCH_SIZE, drop_remainder=True)"
      ],
      "execution_count": null,
      "outputs": []
    },
    {
      "cell_type": "code",
      "metadata": {
        "id": "znh7AlKhsF2N",
        "colab": {
          "base_uri": "https://localhost:8080/"
        },
        "outputId": "84424cae-8c6e-4c78-8383-c9297d07dc24"
      },
      "source": [
        "example_input_batch, example_target_batch = next(iter(dataset))\n",
        "example_input_batch.shape, example_target_batch.shape"
      ],
      "execution_count": null,
      "outputs": [
        {
          "output_type": "execute_result",
          "data": {
            "text/plain": [
              "(TensorShape([64, 16]), TensorShape([64, 26]))"
            ]
          },
          "metadata": {},
          "execution_count": 12
        }
      ]
    },
    {
      "cell_type": "markdown",
      "metadata": {
        "id": "qmFmJub6sQjq"
      },
      "source": [
        "### **Encoder Decoder Model**"
      ]
    },
    {
      "cell_type": "code",
      "metadata": {
        "id": "wCyBkC2VsMfY",
        "colab": {
          "base_uri": "https://localhost:8080/"
        },
        "outputId": "84466b4f-176a-432c-9d1e-b1a0dc838ad5"
      },
      "source": [
        "class Encoder(tf.keras.Model):\n",
        "  def __init__(self, vocab_size, embedding_dim, enc_units, batch_sz):\n",
        "    super(Encoder, self).__init__()\n",
        "    self.batch_sz = batch_sz\n",
        "    self.enc_units = enc_units\n",
        "    self.embedding = tf.keras.layers.Embedding(vocab_size, embedding_dim)\n",
        "    self.gru = tf.keras.layers.GRU(self.enc_units,\n",
        "                                   return_sequences=True,\n",
        "                                   return_state=True,\n",
        "                                   recurrent_initializer='glorot_uniform')\n",
        "\n",
        "  def call(self, x, hidden):\n",
        "    x = self.embedding(x)\n",
        "    output, state = self.gru(x, initial_state = hidden)\n",
        "    return output, state\n",
        "\n",
        "  def initialize_hidden_state(self):\n",
        "    return tf.zeros((self.batch_sz, self.enc_units))\n",
        "\n",
        "encoder = Encoder(vocab_inp_size, embedding_dim, units, BATCH_SIZE)\n",
        "\n",
        "# sample input\n",
        "sample_hidden = encoder.initialize_hidden_state()\n",
        "sample_output, sample_hidden = encoder(example_input_batch, sample_hidden)\n",
        "print ('Encoder output shape: (batch size, sequence length, units) {}'.format(sample_output.shape))\n",
        "print ('Encoder Hidden state shape: (batch size, units) {}'.format(sample_hidden.shape))"
      ],
      "execution_count": null,
      "outputs": [
        {
          "output_type": "stream",
          "name": "stdout",
          "text": [
            "Encoder output shape: (batch size, sequence length, units) (64, 16, 1024)\n",
            "Encoder Hidden state shape: (batch size, units) (64, 1024)\n"
          ]
        }
      ]
    },
    {
      "cell_type": "code",
      "metadata": {
        "id": "s8vbIA58sixD"
      },
      "source": [
        "class BahdanauAttention(tf.keras.layers.Layer):\n",
        "  def __init__(self, units):\n",
        "    super(BahdanauAttention, self).__init__()\n",
        "    self.W1 = tf.keras.layers.Dense(units)\n",
        "    self.W2 = tf.keras.layers.Dense(units)\n",
        "    self.V = tf.keras.layers.Dense(1)\n",
        "\n",
        "  def call(self, query, values):\n",
        "    # query hidden state shape == (batch_size, hidden size)\n",
        "    # query_with_time_axis shape == (batch_size, 1, hidden size)\n",
        "    # values shape == (batch_size, max_len, hidden size)\n",
        "    # we are doing this to broadcast addition along the time axis to calculate the score\n",
        "    query_with_time_axis = tf.expand_dims(query, 1)\n",
        "\n",
        "    # score shape == (batch_size, max_length, 1)\n",
        "    # we get 1 at the last axis because we are applying score to self.V\n",
        "    # the shape of the tensor before applying self.V is (batch_size, max_length, units)\n",
        "    score = self.V(tf.nn.tanh(\n",
        "        self.W1(query_with_time_axis) + self.W2(values)))\n",
        "\n",
        "    # attention_weights shape == (batch_size, max_length, 1)\n",
        "    attention_weights = tf.nn.softmax(score, axis=1)\n",
        "\n",
        "    # context_vector shape after sum == (batch_size, hidden_size)\n",
        "    context_vector = attention_weights * values\n",
        "    context_vector = tf.reduce_sum(context_vector, axis=1)\n",
        "\n",
        "    return context_vector, attention_weights"
      ],
      "execution_count": null,
      "outputs": []
    },
    {
      "cell_type": "code",
      "metadata": {
        "id": "rL3gaLsHsmy9",
        "colab": {
          "base_uri": "https://localhost:8080/"
        },
        "outputId": "c4e2b0fd-73e3-4176-9a17-181ddc879ca8"
      },
      "source": [
        "attention_layer = BahdanauAttention(10)\n",
        "attention_result, attention_weights = attention_layer(sample_hidden, sample_output)\n",
        "\n",
        "print(\"Attention result shape: (batch size, units) {}\".format(attention_result.shape))\n",
        "print(\"Attention weights shape: (batch_size, sequence_length, 1) {}\".format(attention_weights.shape))"
      ],
      "execution_count": null,
      "outputs": [
        {
          "output_type": "stream",
          "name": "stdout",
          "text": [
            "Attention result shape: (batch size, units) (64, 1024)\n",
            "Attention weights shape: (batch_size, sequence_length, 1) (64, 16, 1)\n"
          ]
        }
      ]
    },
    {
      "cell_type": "code",
      "metadata": {
        "id": "G-J2Af-7sooP"
      },
      "source": [
        "class Decoder(tf.keras.Model):\n",
        "  def __init__(self, vocab_size, embedding_dim, dec_units, batch_sz):\n",
        "    super(Decoder, self).__init__()\n",
        "    self.batch_sz = batch_sz\n",
        "    self.dec_units = dec_units\n",
        "    self.embedding = tf.keras.layers.Embedding(vocab_size, embedding_dim)\n",
        "    self.gru = tf.keras.layers.GRU(self.dec_units,\n",
        "                                   return_sequences=True,\n",
        "                                   return_state=True,\n",
        "                                   recurrent_initializer='glorot_uniform')\n",
        "    self.fc = tf.keras.layers.Dense(vocab_size)\n",
        "\n",
        "    # used for attention\n",
        "    self.attention = BahdanauAttention(self.dec_units)\n",
        "\n",
        "  def call(self, x, hidden, enc_output):\n",
        "    # enc_output shape == (batch_size, max_length, hidden_size)\n",
        "    context_vector, attention_weights = self.attention(hidden, enc_output)\n",
        "\n",
        "    # x shape after passing through embedding == (batch_size, 1, embedding_dim)\n",
        "    x = self.embedding(x)\n",
        "\n",
        "    # x shape after concatenation == (batch_size, 1, embedding_dim + hidden_size)\n",
        "    x = tf.concat([tf.expand_dims(context_vector, 1), x], axis=-1)\n",
        "\n",
        "    # passing the concatenated vector to the GRU\n",
        "    output, state = self.gru(x)\n",
        "\n",
        "    # output shape == (batch_size * 1, hidden_size)\n",
        "    output = tf.reshape(output, (-1, output.shape[2]))\n",
        "\n",
        "    # output shape == (batch_size, vocab)\n",
        "    x = self.fc(output)\n",
        "\n",
        "    return x, state, attention_weights"
      ],
      "execution_count": null,
      "outputs": []
    },
    {
      "cell_type": "code",
      "metadata": {
        "id": "HHVtlpXMsseL",
        "colab": {
          "base_uri": "https://localhost:8080/"
        },
        "outputId": "a7a082cf-f228-43c3-82b6-01a227ce2469"
      },
      "source": [
        "decoder = Decoder(vocab_tar_size, embedding_dim, units, BATCH_SIZE)\n",
        "\n",
        "sample_decoder_output, _, _ = decoder(tf.random.uniform((BATCH_SIZE, 1)),\n",
        "                                      sample_hidden, sample_output)\n",
        "\n",
        "print ('Decoder output shape: (batch_size, vocab size) {}'.format(sample_decoder_output.shape))"
      ],
      "execution_count": null,
      "outputs": [
        {
          "output_type": "stream",
          "name": "stdout",
          "text": [
            "Decoder output shape: (batch_size, vocab size) (64, 2910)\n"
          ]
        }
      ]
    },
    {
      "cell_type": "markdown",
      "metadata": {
        "id": "KcAW-8A2s0aT"
      },
      "source": [
        "### **Define the optimizer and the loss function**"
      ]
    },
    {
      "cell_type": "code",
      "metadata": {
        "id": "pBrt2WsEszIx"
      },
      "source": [
        "optimizer = tf.keras.optimizers.Adam()\n",
        "loss_object = tf.keras.losses.SparseCategoricalCrossentropy(\n",
        "    from_logits=True, reduction='none')\n",
        "\n",
        "def loss_function(real, pred):\n",
        "  mask = tf.math.logical_not(tf.math.equal(real, 0))\n",
        "  loss_ = loss_object(real, pred)\n",
        "\n",
        "  mask = tf.cast(mask, dtype=loss_.dtype)\n",
        "  loss_ *= mask\n",
        "\n",
        "  return tf.reduce_mean(loss_)"
      ],
      "execution_count": null,
      "outputs": []
    },
    {
      "cell_type": "code",
      "metadata": {
        "id": "hfrcX3EftAtB"
      },
      "source": [
        "checkpoint_dir = './training_checkpoints'\n",
        "checkpoint_prefix = os.path.join(checkpoint_dir, \"ckpt\")\n",
        "checkpoint = tf.train.Checkpoint(optimizer=optimizer,\n",
        "                                 encoder=encoder,\n",
        "                                 decoder=decoder)"
      ],
      "execution_count": null,
      "outputs": []
    },
    {
      "cell_type": "markdown",
      "metadata": {
        "id": "POqLk8GRtFDT"
      },
      "source": [
        "### **Training**"
      ]
    },
    {
      "cell_type": "code",
      "metadata": {
        "id": "8F5aLPf3tKeL"
      },
      "source": [
        "@tf.function\n",
        "def train_step(inp, targ, enc_hidden):\n",
        "  loss = 0\n",
        "\n",
        "  with tf.GradientTape() as tape:\n",
        "    enc_output, enc_hidden = encoder(inp, enc_hidden)\n",
        "\n",
        "    dec_hidden = enc_hidden\n",
        "\n",
        "    dec_input = tf.expand_dims([targ_lang.word_index['<start>']] * BATCH_SIZE, 1)\n",
        "\n",
        "    # Teacher forcing - feeding the target as the next input\n",
        "    for t in range(1, targ.shape[1]):\n",
        "      # passing enc_output to the decoder\n",
        "      predictions, dec_hidden, _ = decoder(dec_input, dec_hidden, enc_output)\n",
        "\n",
        "      loss += loss_function(targ[:, t], predictions)\n",
        "\n",
        "      # using teacher forcing\n",
        "      dec_input = tf.expand_dims(targ[:, t], 1)\n",
        "\n",
        "  batch_loss = (loss / int(targ.shape[1]))\n",
        "\n",
        "  variables = encoder.trainable_variables + decoder.trainable_variables\n",
        "\n",
        "  gradients = tape.gradient(loss, variables)\n",
        "\n",
        "  optimizer.apply_gradients(zip(gradients, variables))\n",
        "\n",
        "  return batch_loss"
      ],
      "execution_count": null,
      "outputs": []
    },
    {
      "cell_type": "code",
      "metadata": {
        "id": "BaHOuaIptOkX",
        "colab": {
          "base_uri": "https://localhost:8080/"
        },
        "outputId": "4581a5d9-66e1-483e-c122-1b276099faa2"
      },
      "source": [
        "EPOCHS = 50\n",
        "\n",
        "for epoch in range(EPOCHS):\n",
        "  start = time.time()\n",
        "\n",
        "  enc_hidden = encoder.initialize_hidden_state()\n",
        "  total_loss = 0\n",
        "\n",
        "  for (batch, (inp, targ)) in enumerate(dataset.take(steps_per_epoch)):\n",
        "    batch_loss = train_step(inp, targ, enc_hidden)\n",
        "    total_loss += batch_loss\n",
        "\n",
        "    if batch % 100 == 0:\n",
        "      print('Epoch {} Batch {} Loss {:.4f}'.format(epoch + 1,\n",
        "                                                   batch,\n",
        "                                                   batch_loss.numpy()))\n",
        "  # saving (checkpoint) the model every 2 epochs\n",
        "  if (epoch + 1) % 2 == 0:\n",
        "    checkpoint.save(file_prefix = checkpoint_prefix)\n",
        "\n",
        "  print('Epoch {} Loss {:.4f}'.format(epoch + 1,\n",
        "                                      total_loss / steps_per_epoch))\n",
        "  print('Time taken for 1 epoch {} sec\\n'.format(time.time() - start))"
      ],
      "execution_count": null,
      "outputs": [
        {
          "output_type": "stream",
          "name": "stdout",
          "text": [
            "Epoch 1 Batch 0 Loss 1.5100\n",
            "Epoch 1 Loss 1.2238\n",
            "Time taken for 1 epoch 49.25358867645264 sec\n",
            "\n",
            "Epoch 2 Batch 0 Loss 0.9098\n",
            "Epoch 2 Loss 1.0181\n",
            "Time taken for 1 epoch 12.538859605789185 sec\n",
            "\n",
            "Epoch 3 Batch 0 Loss 1.0699\n",
            "Epoch 3 Loss 0.9634\n",
            "Time taken for 1 epoch 11.979210615158081 sec\n",
            "\n",
            "Epoch 4 Batch 0 Loss 0.9125\n",
            "Epoch 4 Loss 0.9003\n",
            "Time taken for 1 epoch 12.38878083229065 sec\n",
            "\n",
            "Epoch 5 Batch 0 Loss 0.9235\n",
            "Epoch 5 Loss 0.8536\n",
            "Time taken for 1 epoch 11.885429620742798 sec\n",
            "\n",
            "Epoch 6 Batch 0 Loss 0.8281\n",
            "Epoch 6 Loss 0.8076\n",
            "Time taken for 1 epoch 12.383733987808228 sec\n",
            "\n",
            "Epoch 7 Batch 0 Loss 0.6497\n",
            "Epoch 7 Loss 0.7598\n",
            "Time taken for 1 epoch 11.882416486740112 sec\n",
            "\n",
            "Epoch 8 Batch 0 Loss 0.7494\n",
            "Epoch 8 Loss 0.7212\n",
            "Time taken for 1 epoch 12.364627599716187 sec\n",
            "\n",
            "Epoch 9 Batch 0 Loss 0.6844\n",
            "Epoch 9 Loss 0.6853\n",
            "Time taken for 1 epoch 11.88129997253418 sec\n",
            "\n",
            "Epoch 10 Batch 0 Loss 0.5627\n",
            "Epoch 10 Loss 0.6500\n",
            "Time taken for 1 epoch 12.346944570541382 sec\n",
            "\n",
            "Epoch 11 Batch 0 Loss 0.5674\n",
            "Epoch 11 Loss 0.6110\n",
            "Time taken for 1 epoch 11.868375539779663 sec\n",
            "\n",
            "Epoch 12 Batch 0 Loss 0.4969\n",
            "Epoch 12 Loss 0.5739\n",
            "Time taken for 1 epoch 12.364447355270386 sec\n",
            "\n",
            "Epoch 13 Batch 0 Loss 0.5701\n",
            "Epoch 13 Loss 0.5428\n",
            "Time taken for 1 epoch 11.91752576828003 sec\n",
            "\n",
            "Epoch 14 Batch 0 Loss 0.4732\n",
            "Epoch 14 Loss 0.5147\n",
            "Time taken for 1 epoch 12.332092046737671 sec\n",
            "\n",
            "Epoch 15 Batch 0 Loss 0.4205\n",
            "Epoch 15 Loss 0.4878\n",
            "Time taken for 1 epoch 11.902852535247803 sec\n",
            "\n",
            "Epoch 16 Batch 0 Loss 0.4319\n",
            "Epoch 16 Loss 0.4605\n",
            "Time taken for 1 epoch 12.360978841781616 sec\n",
            "\n",
            "Epoch 17 Batch 0 Loss 0.4174\n",
            "Epoch 17 Loss 0.4425\n",
            "Time taken for 1 epoch 11.84883427619934 sec\n",
            "\n",
            "Epoch 18 Batch 0 Loss 0.4385\n",
            "Epoch 18 Loss 0.4133\n",
            "Time taken for 1 epoch 12.341264724731445 sec\n",
            "\n",
            "Epoch 19 Batch 0 Loss 0.3682\n",
            "Epoch 19 Loss 0.3878\n",
            "Time taken for 1 epoch 11.866261720657349 sec\n",
            "\n",
            "Epoch 20 Batch 0 Loss 0.3116\n",
            "Epoch 20 Loss 0.3662\n",
            "Time taken for 1 epoch 12.332157611846924 sec\n",
            "\n",
            "Epoch 21 Batch 0 Loss 0.3228\n",
            "Epoch 21 Loss 0.3459\n",
            "Time taken for 1 epoch 11.858361005783081 sec\n",
            "\n",
            "Epoch 22 Batch 0 Loss 0.2505\n",
            "Epoch 22 Loss 0.3255\n",
            "Time taken for 1 epoch 12.369931936264038 sec\n",
            "\n",
            "Epoch 23 Batch 0 Loss 0.3147\n",
            "Epoch 23 Loss 0.3043\n",
            "Time taken for 1 epoch 11.874590873718262 sec\n",
            "\n",
            "Epoch 24 Batch 0 Loss 0.2457\n",
            "Epoch 24 Loss 0.2805\n",
            "Time taken for 1 epoch 12.352981090545654 sec\n",
            "\n",
            "Epoch 25 Batch 0 Loss 0.2446\n",
            "Epoch 25 Loss 0.2681\n",
            "Time taken for 1 epoch 11.890391111373901 sec\n",
            "\n",
            "Epoch 26 Batch 0 Loss 0.2145\n",
            "Epoch 26 Loss 0.2512\n",
            "Time taken for 1 epoch 12.306708097457886 sec\n",
            "\n",
            "Epoch 27 Batch 0 Loss 0.2191\n",
            "Epoch 27 Loss 0.2348\n",
            "Time taken for 1 epoch 11.876049757003784 sec\n",
            "\n",
            "Epoch 28 Batch 0 Loss 0.1491\n",
            "Epoch 28 Loss 0.2102\n",
            "Time taken for 1 epoch 12.354449033737183 sec\n",
            "\n",
            "Epoch 29 Batch 0 Loss 0.1414\n",
            "Epoch 29 Loss 0.1862\n",
            "Time taken for 1 epoch 11.898034572601318 sec\n",
            "\n",
            "Epoch 30 Batch 0 Loss 0.1468\n",
            "Epoch 30 Loss 0.1669\n",
            "Time taken for 1 epoch 12.362846851348877 sec\n",
            "\n",
            "Epoch 31 Batch 0 Loss 0.1091\n",
            "Epoch 31 Loss 0.1519\n",
            "Time taken for 1 epoch 11.885570287704468 sec\n",
            "\n",
            "Epoch 32 Batch 0 Loss 0.1033\n",
            "Epoch 32 Loss 0.1394\n",
            "Time taken for 1 epoch 12.356276988983154 sec\n",
            "\n",
            "Epoch 33 Batch 0 Loss 0.0864\n",
            "Epoch 33 Loss 0.1215\n",
            "Time taken for 1 epoch 11.905949831008911 sec\n",
            "\n",
            "Epoch 34 Batch 0 Loss 0.0774\n",
            "Epoch 34 Loss 0.1026\n",
            "Time taken for 1 epoch 12.400664806365967 sec\n",
            "\n",
            "Epoch 35 Batch 0 Loss 0.0607\n",
            "Epoch 35 Loss 0.0891\n",
            "Time taken for 1 epoch 11.888141632080078 sec\n",
            "\n",
            "Epoch 36 Batch 0 Loss 0.0688\n",
            "Epoch 36 Loss 0.0794\n",
            "Time taken for 1 epoch 12.397530317306519 sec\n",
            "\n",
            "Epoch 37 Batch 0 Loss 0.0512\n",
            "Epoch 37 Loss 0.0678\n",
            "Time taken for 1 epoch 11.931843280792236 sec\n",
            "\n",
            "Epoch 38 Batch 0 Loss 0.0506\n",
            "Epoch 38 Loss 0.0591\n",
            "Time taken for 1 epoch 12.415841341018677 sec\n",
            "\n",
            "Epoch 39 Batch 0 Loss 0.0376\n",
            "Epoch 39 Loss 0.0534\n",
            "Time taken for 1 epoch 11.87217903137207 sec\n",
            "\n",
            "Epoch 40 Batch 0 Loss 0.0346\n",
            "Epoch 40 Loss 0.0495\n",
            "Time taken for 1 epoch 12.444492101669312 sec\n",
            "\n",
            "Epoch 41 Batch 0 Loss 0.0346\n",
            "Epoch 41 Loss 0.0448\n",
            "Time taken for 1 epoch 11.914905309677124 sec\n",
            "\n",
            "Epoch 42 Batch 0 Loss 0.0366\n",
            "Epoch 42 Loss 0.0386\n",
            "Time taken for 1 epoch 12.426503419876099 sec\n",
            "\n",
            "Epoch 43 Batch 0 Loss 0.0321\n",
            "Epoch 43 Loss 0.0320\n",
            "Time taken for 1 epoch 11.915031433105469 sec\n",
            "\n",
            "Epoch 44 Batch 0 Loss 0.0212\n",
            "Epoch 44 Loss 0.0284\n",
            "Time taken for 1 epoch 12.400021076202393 sec\n",
            "\n",
            "Epoch 45 Batch 0 Loss 0.0197\n",
            "Epoch 45 Loss 0.0254\n",
            "Time taken for 1 epoch 11.888085126876831 sec\n",
            "\n",
            "Epoch 46 Batch 0 Loss 0.0211\n",
            "Epoch 46 Loss 0.0250\n",
            "Time taken for 1 epoch 12.38059377670288 sec\n",
            "\n",
            "Epoch 47 Batch 0 Loss 0.0120\n",
            "Epoch 47 Loss 0.0230\n",
            "Time taken for 1 epoch 11.904951572418213 sec\n",
            "\n",
            "Epoch 48 Batch 0 Loss 0.0173\n",
            "Epoch 48 Loss 0.0216\n",
            "Time taken for 1 epoch 12.4152672290802 sec\n",
            "\n",
            "Epoch 49 Batch 0 Loss 0.0162\n",
            "Epoch 49 Loss 0.0202\n",
            "Time taken for 1 epoch 11.86138129234314 sec\n",
            "\n",
            "Epoch 50 Batch 0 Loss 0.0107\n",
            "Epoch 50 Loss 0.0184\n",
            "Time taken for 1 epoch 12.429150342941284 sec\n",
            "\n"
          ]
        }
      ]
    },
    {
      "cell_type": "markdown",
      "metadata": {
        "id": "hZpCYJBYwkpR"
      },
      "source": [
        "### **Translate**"
      ]
    },
    {
      "cell_type": "code",
      "metadata": {
        "id": "Mm75sJPBwOkU"
      },
      "source": [
        "def evaluate(sentence):\n",
        "  attention_plot = np.zeros((max_length_targ, max_length_inp))\n",
        "\n",
        "  sentence = preprocess_sentence(sentence)\n",
        "\n",
        "  inputs = [inp_lang.word_index[i] for i in sentence.split(' ')]\n",
        "  inputs = tf.keras.preprocessing.sequence.pad_sequences([inputs],\n",
        "                                                         maxlen=max_length_inp,\n",
        "                                                         padding='post')\n",
        "  inputs = tf.convert_to_tensor(inputs)\n",
        "\n",
        "  result = ''\n",
        "\n",
        "  hidden = [tf.zeros((1, units))]\n",
        "  enc_out, enc_hidden = encoder(inputs, hidden)\n",
        "\n",
        "  dec_hidden = enc_hidden\n",
        "  dec_input = tf.expand_dims([targ_lang.word_index['<start>']], 0)\n",
        "\n",
        "  for t in range(max_length_targ):\n",
        "    predictions, dec_hidden, attention_weights = decoder(dec_input,\n",
        "                                                         dec_hidden,\n",
        "                                                         enc_out)\n",
        "\n",
        "    # storing the attention weights to plot later on\n",
        "    attention_weights = tf.reshape(attention_weights, (-1, ))\n",
        "    attention_plot[t] = attention_weights.numpy()\n",
        "\n",
        "    predicted_id = tf.argmax(predictions[0]).numpy()\n",
        "\n",
        "    result += targ_lang.index_word[predicted_id] + ' '\n",
        "\n",
        "    if targ_lang.index_word[predicted_id] == '<end>':\n",
        "      return result, sentence, attention_plot\n",
        "\n",
        "    # the predicted ID is fed back into the model\n",
        "    dec_input = tf.expand_dims([predicted_id], 0)\n",
        "\n",
        "  return result, sentence, attention_plot"
      ],
      "execution_count": null,
      "outputs": []
    },
    {
      "cell_type": "code",
      "metadata": {
        "id": "gESLgPBwwv0b"
      },
      "source": [
        "# function for plotting the attention weights\n",
        "def plot_attention(attention, sentence, predicted_sentence):\n",
        "  fig = plt.figure(figsize=(10,10))\n",
        "  ax = fig.add_subplot(1, 1, 1)\n",
        "  ax.matshow(attention, cmap='viridis')\n",
        "\n",
        "  fontdict = {'fontsize': 14}\n",
        "\n",
        "  ax.set_xticklabels([''] + sentence, fontdict=fontdict, rotation=90)\n",
        "  ax.set_yticklabels([''] + predicted_sentence, fontdict=fontdict)\n",
        "\n",
        "  ax.xaxis.set_major_locator(ticker.MultipleLocator(1))\n",
        "  ax.yaxis.set_major_locator(ticker.MultipleLocator(1))\n",
        "\n",
        "  plt.show()"
      ],
      "execution_count": null,
      "outputs": []
    },
    {
      "cell_type": "code",
      "metadata": {
        "id": "Zfy22hnJw2Wj"
      },
      "source": [
        "def translate(sentence):\n",
        "  result, sentence, attention_plot = evaluate(sentence)\n",
        "\n",
        "  print('Input: %s' % (sentence))\n",
        "  print('Predicted translation: {}'.format(result))\n",
        "\n",
        "  attention_plot = attention_plot[:len(result.split(' ')), :len(sentence.split(' '))]\n",
        "  plot_attention(attention_plot, sentence.split(' '), result.split(' '))"
      ],
      "execution_count": null,
      "outputs": []
    },
    {
      "cell_type": "code",
      "metadata": {
        "id": "RdhOS9Ayw9r6",
        "colab": {
          "base_uri": "https://localhost:8080/"
        },
        "outputId": "633f5213-4a11-458a-edc5-82ca2ad1ced7"
      },
      "source": [
        "# restoring the latest checkpoint in checkpoint_dir\n",
        "checkpoint.restore(tf.train.latest_checkpoint(checkpoint_dir))"
      ],
      "execution_count": null,
      "outputs": [
        {
          "output_type": "execute_result",
          "data": {
            "text/plain": [
              "<tensorflow.python.training.tracking.util.CheckpointLoadStatus at 0x7f30d2e397d0>"
            ]
          },
          "metadata": {},
          "execution_count": 25
        }
      ]
    },
    {
      "cell_type": "code",
      "metadata": {
        "id": "v7e1GdFIxAVJ",
        "colab": {
          "base_uri": "https://localhost:8080/",
          "height": 696
        },
        "outputId": "97881411-3476-496e-9ba3-96a1d80809fa"
      },
      "source": [
        "translate(u'allqum suwata anyachkan.')"
      ],
      "execution_count": null,
      "outputs": [
        {
          "output_type": "stream",
          "name": "stdout",
          "text": [
            "Input: <start> allqum suwata anyachkan . <end>\n",
            "Predicted translation: el perro esta ladrando al ladron . <end> \n"
          ]
        },
        {
          "output_type": "display_data",
          "data": {
            "image/png": "[encoded data removed]",
            "text/plain": [
              "<Figure size 720x720 with 1 Axes>"
            ]
          },
          "metadata": {
            "needs_background": "light"
          }
        }
      ]
    },
    {
      "cell_type": "code",
      "metadata": {
        "id": "hv6JFPhRxfHz",
        "colab": {
          "base_uri": "https://localhost:8080/",
          "height": 676
        },
        "outputId": "61e6e36f-0e64-468f-c320-9fd7902bb75f"
      },
      "source": [
        "translate(u'qullqi.')"
      ],
      "execution_count": null,
      "outputs": [
        {
          "output_type": "stream",
          "name": "stdout",
          "text": [
            "Input: <start> qullqi . <end>\n",
            "Predicted translation: he dormido en la quinua . <end> \n"
          ]
        },
        {
          "output_type": "display_data",
          "data": {
            "image/png": "[encoded data removed]",
            "text/plain": [
              "<Figure size 720x720 with 1 Axes>"
            ]
          },
          "metadata": {
            "needs_background": "light"
          }
        }
      ]
    },
    {
      "cell_type": "code",
      "metadata": {
        "id": "pzfIDwRgxutt",
        "colab": {
          "base_uri": "https://localhost:8080/",
          "height": 676
        },
        "outputId": "a17f0ed5-fffe-47cd-b8d8-b9856a66be11"
      },
      "source": [
        "translate(u'qullqi')"
      ],
      "execution_count": null,
      "outputs": [
        {
          "output_type": "stream",
          "name": "stdout",
          "text": [
            "Input: <start> qullqi <end>\n",
            "Predicted translation: plata <end> \n"
          ]
        },
        {
          "output_type": "display_data",
          "data": {
            "image/png": "[encoded data removed]",
            "text/plain": [
              "<Figure size 720x720 with 1 Axes>"
            ]
          },
          "metadata": {
            "needs_background": "light"
          }
        }
      ]
    },
    {
      "cell_type": "code",
      "metadata": {
        "id": "thLCECjfyRFr",
        "colab": {
          "base_uri": "https://localhost:8080/",
          "height": 676
        },
        "outputId": "687c50d1-eef8-4826-b8db-6796ad1ab707"
      },
      "source": [
        "translate(u'taytáy!')"
      ],
      "execution_count": null,
      "outputs": [
        {
          "output_type": "stream",
          "name": "stdout",
          "text": [
            "Input: <start> taytay ! <end>\n",
            "Predicted translation: animal macho . <end> \n"
          ]
        },
        {
          "output_type": "display_data",
          "data": {
            "image/png": "[encoded data removed]",
            "text/plain": [
              "<Figure size 720x720 with 1 Axes>"
            ]
          },
          "metadata": {
            "needs_background": "light"
          }
        }
      ]
    },
    {
      "cell_type": "code",
      "metadata": {
        "id": "nSihUWS9_WM6",
        "colab": {
          "base_uri": "https://localhost:8080/",
          "height": 705
        },
        "outputId": "fb861ff3-4861-484b-e003-e926e75877da"
      },
      "source": [
        "translate(u'Cuscomanta hamunim.')"
      ],
      "execution_count": null,
      "outputs": [
        {
          "output_type": "stream",
          "name": "stdout",
          "text": [
            "Input: <start> cuscomanta hamunim . <end>\n",
            "Predicted translation: vengo de cusco . <end> \n"
          ]
        },
        {
          "output_type": "display_data",
          "data": {
            "image/png": "[encoded data removed]",
            "text/plain": [
              "<Figure size 720x720 with 1 Axes>"
            ]
          },
          "metadata": {
            "needs_background": "light"
          }
        }
      ]
    },
    {
      "cell_type": "code",
      "metadata": {
        "id": "EKAmOCr2_fp8",
        "colab": {
          "base_uri": "https://localhost:8080/",
          "height": 557
        },
        "outputId": "6f8b43e9-d980-459e-98a5-5a2936f31441"
      },
      "source": [
        "translate(u'Allinllam kachkani')"
      ],
      "execution_count": null,
      "outputs": [
        {
          "output_type": "stream",
          "name": "stdout",
          "text": [
            "Input: <start> allinllam kachkani <end>\n",
            "Predicted translation: abra <end> \n"
          ]
        },
        {
          "output_type": "display_data",
          "data": {
            "image/png": "[encoded data removed]",
            "text/plain": [
              "<Figure size 720x720 with 1 Axes>"
            ]
          },
          "metadata": {
            "needs_background": "light"
          }
        }
      ]
    }
  ]
}